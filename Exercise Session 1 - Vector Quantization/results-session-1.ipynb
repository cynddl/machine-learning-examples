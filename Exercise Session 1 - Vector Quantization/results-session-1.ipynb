{
 "cells": [
  {
   "cell_type": "code",
   "execution_count": 1,
   "metadata": {},
   "outputs": [],
   "source": [
    "import numpy as np\n",
    "from scipy.io import loadmat\n",
    "\n",
    "import matplotlib.pyplot as plt\n",
    "import matplotlib\n",
    "matplotlib.style.use('seaborn-notebook')\n",
    "%matplotlib inline"
   ]
  },
  {
   "cell_type": "code",
   "execution_count": 2,
   "metadata": {},
   "outputs": [],
   "source": [
    "def show_quantization(X, X_c, ax=None):\n",
    "    p, q = X.shape[0], X_c.shape[0]\n",
    "    \n",
    "    if ax is None:\n",
    "        fig, ax = plt.subplots(figsize=(5, 5))\n",
    "\n",
    "    ax.scatter(X[:,0], X[:,1], c='black', alpha=0.4, s=10, marker='.')\n",
    "    ax.scatter(X_c[:,0], X_c[:,1], c='m', alpha=0.8, s=50, marker='o')\n",
    "    ax.set(title=f\"Vector quantization ({p} samples - {q} centroids)\", xlabel=\"$X_1$\", ylabel=\"$X_2$\")"
   ]
  },
  {
   "cell_type": "markdown",
   "metadata": {},
   "source": [
    "# Models"
   ]
  },
  {
   "cell_type": "code",
   "execution_count": 3,
   "metadata": {},
   "outputs": [],
   "source": [
    "def distance(z, p):\n",
    "    return np.sqrt(((z - p)**2).sum(1))\n",
    "\n",
    "def assign_centroids(X, X_c, centroid_weights=1):\n",
    "    return np.apply_along_axis(lambda x: np.argmin(distance(x, X_c) * centroid_weights), 1, X)\n",
    "\n",
    "def adaptation_rule(X, ix, X_c, α):\n",
    "    n = X.shape[0]\n",
    "    \n",
    "    for i in np.random.choice(n, n, replace=False):\n",
    "        j = ix[i]\n",
    "        X_c[j] = X_c[j] + α * (X[i] - X_c[j])\n",
    "        \n",
    "def assignment_error(X, ix, X_c):\n",
    "    return np.mean(np.sqrt((X - X_c[ix])**2).sum(1))"
   ]
  },
  {
   "cell_type": "code",
   "execution_count": 4,
   "metadata": {},
   "outputs": [],
   "source": [
    "def wta_learning(X, nb_centroids=4, total_steps=20, α=.9, β=1, method='competitive'):\n",
    "    n = X.shape[0]\n",
    "    X_c = X[np.random.choice(n, size=nb_centroids, replace=False), :]\n",
    "    \n",
    "    centroid_weights = np.ones(nb_centroids)\n",
    "    for i in range(total_steps):\n",
    "        # Assignment\n",
    "        ix = assign_centroids(X, X_c, centroid_weights)\n",
    "        if method == 'fsl':\n",
    "            centroid_weights += np.asarray([np.sum(ix == z) for z in range(nb_centroids)])\n",
    "        \n",
    "        # Adaptation rule\n",
    "        adaptation_rule(X, ix, X_c, α)\n",
    "        \n",
    "        # Decrease α\n",
    "        α = α * β / (α+β)\n",
    "\n",
    "    print(f\"α={α:.3f}, E={assignment_error(X, ix, X_c):.3f}\")    \n",
    "    return X_c"
   ]
  },
  {
   "cell_type": "code",
   "execution_count": 5,
   "metadata": {},
   "outputs": [],
   "source": [
    "def neural_gas_learning(X, nb_centroids=4, total_steps=20, α=.9, β=1, λ=.1):\n",
    "    n = X.shape[0]\n",
    "    X_c = X[np.random.choice(n, size=nb_centroids, replace=False), :]\n",
    "    \n",
    "    for i in range(total_steps):\n",
    "        # Ranking\n",
    "        ranks = np.apply_along_axis(lambda x: np.argsort(distance(x, X_c)), 1, X)\n",
    "        \n",
    "        # Adaptation rule\n",
    "        for i in np.random.choice(n, n, replace=False):\n",
    "            for j in range(nb_centroids):\n",
    "                X_c[j] = X_c[j] + α * np.exp(-ranks[i,j] / λ) * (X[i] - X_c[j])\n",
    "    \n",
    "        # Decrease α\n",
    "        α = α * β / (α+β)\n",
    "        \n",
    "    print(f\"α={α:.3f}, E={assignment_error(X, assign_centroids(X, X_c), X_c):.3f}\")    \n",
    "    return X_c"
   ]
  },
  {
   "cell_type": "markdown",
   "metadata": {},
   "source": [
    "# Validation on empirical data"
   ]
  },
  {
   "cell_type": "code",
   "execution_count": 6,
   "metadata": {},
   "outputs": [],
   "source": [
    "X = loadmat('dataset_1.mat')['X']"
   ]
  },
  {
   "cell_type": "code",
   "execution_count": 7,
   "metadata": {},
   "outputs": [
    {
     "name": "stdout",
     "output_type": "stream",
     "text": [
      "Competitive\n",
      "α=0.047, E=0.728\n",
      "\n",
      "FSL\n",
      "α=0.047, E=0.603\n",
      "\n",
      "Neural gas\n",
      "α=0.047, E=0.610\n"
     ]
    }
   ],
   "source": [
    "print(\"Competitive\")\n",
    "X_c1 = wta_learning(X, nb_centroids=2, method='competitive')\n",
    "\n",
    "print(\"\\nFSL\")\n",
    "X_c2 = wta_learning(X, nb_centroids=2, method='fsl')\n",
    "\n",
    "print(\"\\nNeural gas\")\n",
    "X_c3 = neural_gas_learning(X, nb_centroids=2)"
   ]
  },
  {
   "cell_type": "code",
   "execution_count": 8,
   "metadata": {},
   "outputs": [
    {
     "data": {
      "image/png": "[encoded data removed]",
      "text/plain": [
       "<Figure size 864x288 with 3 Axes>"
      ]
     },
     "metadata": {
      "needs_background": "light"
     },
     "output_type": "display_data"
    }
   ],
   "source": [
    "fig, axes = plt.subplots(1, 3, figsize=(12, 4))\n",
    "\n",
    "show_quantization(X, X_c1, ax=axes[0]); axes[0].set_title('Competitive')\n",
    "show_quantization(X, X_c2, ax=axes[1]); axes[1].set_title('FSL')\n",
    "show_quantization(X, X_c3, ax=axes[2]); axes[2].set_title('Neural gas')\n",
    "\n",
    "fig.tight_layout()"
   ]
  },
  {
   "cell_type": "code",
   "execution_count": 9,
   "metadata": {},
   "outputs": [],
   "source": [
    "X = loadmat('dataset_3.mat')['X']"
   ]
  },
  {
   "cell_type": "code",
   "execution_count": 10,
   "metadata": {},
   "outputs": [
    {
     "name": "stdout",
     "output_type": "stream",
     "text": [
      "Competitive\n",
      "α=0.047, E=0.544\n",
      "\n",
      "FSL\n",
      "α=0.047, E=0.585\n",
      "\n",
      "Neural gas\n",
      "α=0.047, E=0.552\n"
     ]
    }
   ],
   "source": [
    "print(\"Competitive\")\n",
    "X_c1 = wta_learning(X, nb_centroids=2, method='competitive')\n",
    "\n",
    "print(\"\\nFSL\")\n",
    "X_c2 = wta_learning(X, nb_centroids=2, method='fsl')\n",
    "\n",
    "print(\"\\nNeural gas\")\n",
    "X_c3 = neural_gas_learning(X, nb_centroids=2)"
   ]
  },
  {
   "cell_type": "code",
   "execution_count": 11,
   "metadata": {},
   "outputs": [
    {
     "data": {
      "image/png": "[encoded data removed]",
      "text/plain": [
       "<Figure size 864x288 with 3 Axes>"
      ]
     },
     "metadata": {
      "needs_background": "light"
     },
     "output_type": "display_data"
    }
   ],
   "source": [
    "fig, axes = plt.subplots(1, 3, figsize=(12, 4))\n",
    "\n",
    "show_quantization(X, X_c1, ax=axes[0]); axes[0].set_title('Competitive')\n",
    "show_quantization(X, X_c2, ax=axes[1]); axes[1].set_title('FSL')\n",
    "show_quantization(X, X_c3, ax=axes[2]); axes[2].set_title('Neural gas')\n",
    "\n",
    "fig.tight_layout()"
   ]
  }
 ],
 "metadata": {
  "kernelspec": {
   "display_name": "Python 3",
   "language": "python",
   "name": "python3"
  },
  "language_info": {
   "codemirror_mode": {
    "name": "ipython",
    "version": 3
   },
   "file_extension": ".py",
   "mimetype": "text/x-python",
   "name": "python",
   "nbconvert_exporter": "python",
   "pygments_lexer": "ipython3",
   "version": "3.6.0"
  }
 },
 "nbformat": 4,
 "nbformat_minor": 2
}
