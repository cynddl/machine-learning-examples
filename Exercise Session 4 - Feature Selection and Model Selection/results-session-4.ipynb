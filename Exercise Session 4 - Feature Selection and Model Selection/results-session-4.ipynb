{
 "cells": [
  {
   "cell_type": "code",
   "execution_count": 2,
   "metadata": {},
   "outputs": [],
   "source": [
    "import numpy as np"
   ]
  },
  {
   "cell_type": "markdown",
   "metadata": {},
   "source": [
    "# Synthetic dataset"
   ]
  },
  {
   "cell_type": "code",
   "execution_count": 69,
   "metadata": {},
   "outputs": [],
   "source": [
    "X = np.random.rand(10000, 6)\n",
    "y = np.sin(2 * X[:, 0]) * X[:, 1] + .5 * (X[:, 2] - .5)**2 + X[:, 3] + np.random.randn(10000)"
   ]
  },
  {
   "cell_type": "markdown",
   "metadata": {},
   "source": [
    "# Feature selection using mutual information\n",
    "\n",
    "We use the _npeet_ toolbox (https://github.com/gregversteeg/NPEET) to estimate the entropy of a set of continuous variables."
   ]
  },
  {
   "cell_type": "code",
   "execution_count": 70,
   "metadata": {},
   "outputs": [],
   "source": [
    "from itertools import combinations\n",
    "from npeet.entropy_estimators import mi\n",
    "\n",
    "def feature_selection_mi(X, y):\n",
    "    d = X.shape[1]\n",
    "    \n",
    "    for j in range(1, d+1):\n",
    "        combs = list(combinations(range(d), j))\n",
    "        all_mi = [mi(X[:, c], y.reshape(-1, 1)) for c in combs]\n",
    "        \n",
    "        best_mi = np.max(all_mi)\n",
    "        best_comb = combs[np.argmax(all_mi)]\n",
    "        \n",
    "        print(best_mi, best_comb)"
   ]
  },
  {
   "cell_type": "code",
   "execution_count": 71,
   "metadata": {},
   "outputs": [
    {
     "name": "stdout",
     "output_type": "stream",
     "text": [
      "0.08428959064589997 (3,)\n",
      "0.07480408330043924 (1, 3)\n",
      "0.09807977480217246 (0, 1, 3)\n",
      "0.11314577506935693 (0, 1, 3, 4)\n",
      "0.09939718721750596 (0, 1, 3, 4, 5)\n",
      "0.09158547642081268 (0, 1, 2, 3, 4, 5)\n"
     ]
    }
   ],
   "source": [
    "feature_selection_mi(X, y)"
   ]
  },
  {
   "cell_type": "code",
   "execution_count": null,
   "metadata": {},
   "outputs": [],
   "source": []
  }
 ],
 "metadata": {
  "kernelspec": {
   "display_name": "Python 3",
   "language": "python",
   "name": "python3"
  },
  "language_info": {
   "codemirror_mode": {
    "name": "ipython",
    "version": 3
   },
   "file_extension": ".py",
   "mimetype": "text/x-python",
   "name": "python",
   "nbconvert_exporter": "python",
   "pygments_lexer": "ipython3",
   "version": "3.6.0"
  }
 },
 "nbformat": 4,
 "nbformat_minor": 2
}
